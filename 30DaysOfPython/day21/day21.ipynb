{
 "cells": [
  {
   "attachments": {},
   "cell_type": "markdown",
   "metadata": {},
   "source": [
    "### Day 21: 30 Days of python programming\n",
    "### Topic : Objects and Classes \n",
    "## Exercise: Level 1"
   ]
  },
  {
   "attachments": {},
   "cell_type": "markdown",
   "metadata": {},
   "source": [
    "1. Python has the module called statistics and we can use this module to do all the statistical calculations. However, to learn how to make function and reuse function let us try to develop a program, which calculates the measure of central tendency of a sample (mean, median, mode) and measure of variability (range, variance, standard deviation). In addition to those measures, find the min, max, count, percentile, and frequency distribution of the sample. You can create a class called Statistics and create all the functions that do statistical calculations as methods for the Statistics class. Check the output below."
   ]
  },
  {
   "cell_type": "code",
   "execution_count": 14,
   "metadata": {},
   "outputs": [
    {
     "name": "stdout",
     "output_type": "stream",
     "text": [
      "Count: 25\n",
      "Sum:  744\n",
      "Min:  24\n",
      "Max:  38\n",
      "Range:  14\n",
      "Mean:  29.76\n",
      "Median:  29\n",
      "Mode:  (26, 5)\n",
      "Standard Deviation:  4.2747319604079665\n",
      "Variance:  18.273333333333333\n",
      "Frequency Distribution:  [(5.0, 26), (4.0, 27), (3.0, 32), (2.0, 37), (2.0, 34), (2.0, 33), (2.0, 31), (2.0, 24), (1.0, 38), (1.0, 29), (1.0, 25)]\n"
     ]
    }
   ],
   "source": [
    "import statistics  as stats\n",
    "\n",
    "class Statistics:\n",
    "    # creating a constructor\n",
    "    def __init__(self,lst):\n",
    "        self.lst = lst\n",
    "    \n",
    "    def count(self):\n",
    "        return len(self.lst)\n",
    "\n",
    "    def sum(self):\n",
    "        return sum(self.lst)\n",
    "\n",
    "    def min(self):\n",
    "        return min(self.lst)\n",
    "    \n",
    "    def max(self):\n",
    "        return max(self.lst) \n",
    "    \n",
    "    def mean(self):\n",
    "        return stats.mean(self.lst)\n",
    "\n",
    "    def median(self):\n",
    "        return stats.median(self.lst)\n",
    "    \n",
    "    def range(self):\n",
    "        return max(self.lst) - min(self.lst)\n",
    "\n",
    "    def mode(self):\n",
    "        return f\"({stats.mode(self.lst)}, {self.lst.count(stats.mode(self.lst))})\"\n",
    "    \n",
    "    def std(self):\n",
    "        return stats.stdev(self.lst)\n",
    "    \n",
    "    def var(self):\n",
    "        return stats.variance(self.lst)\n",
    "     \n",
    "    def freq_dist(self):\n",
    "        freq_dict = {}\n",
    "        for element in self.lst:\n",
    "            if element in freq_dict:\n",
    "                freq_dict[element] += 1\n",
    "            else:\n",
    "                freq_dict[element] = 1\n",
    "        freq_lst = [(float(val),key) for key, val in freq_dict.items()]\n",
    "        freq_lst = sorted(freq_lst,reverse=True)\n",
    "        return freq_lst \n",
    "\n",
    "    # def describe(self):\n",
    "    #     return f\" Count: {len(self.lst)} \\n Sum: {sum(self.lst)} \\n Min: {min(self.lst)} \\n Max: {max(self.lst)} \\n Mode: {statistics.mode(self.lst)} \\n Median: {statistics.median(self.lst)}\" \n",
    "    # # \\n Range: {range(self.lst)} \\n \\n {statistics.variance(self.lst)} \\n {statistics.stdev(self.lst)} \\n {statistics.NormalDist(self.lst)}\"\n",
    "\n",
    "ages = [31, 26, 34, 37, 27, 26, 32, 32, 26, 27, 27, 24, 32, 33, 27, 25, 26, 38, 37, 31, 34, 24, 33, 29, 26]\n",
    "data = Statistics(ages)\n",
    "print('Count:', data.count()) # 25\n",
    "print('Sum: ', data.sum()) # 744\n",
    "print('Min: ', data.min()) # 24\n",
    "print('Max: ', data.max()) # 38\n",
    "print('Range: ', data.range()) # 14\n",
    "print('Mean: ', data.mean()) # 30\n",
    "print('Median: ', data.median()) # 29\n",
    "print('Mode: ', data.mode()) # {'mode': 26, 'count': 5}\n",
    "print('Standard Deviation: ', data.std())\n",
    "print('Variance: ', data.var()) # 18.5\n",
    "print('Frequency Distribution: ', data.freq_dist())\n",
    "# print(data.describe())"
   ]
  },
  {
   "attachments": {},
   "cell_type": "markdown",
   "metadata": {},
   "source": [
    "# Exercises: Level 2"
   ]
  },
  {
   "attachments": {},
   "cell_type": "markdown",
   "metadata": {},
   "source": [
    "1. Create a class called PersonAccount. It has firstname, lastname, incomes, expenses properties and it has total_income, total_expense, account_info, add_income, add_expense and account_balance methods. Incomes is a set of incomes and its description. The same goes for expenses."
   ]
  },
  {
   "cell_type": "code",
   "execution_count": 41,
   "metadata": {},
   "outputs": [
    {
     "name": "stdout",
     "output_type": "stream",
     "text": [
      " Acct Name: ('Ishaq', 'Hassan') \n",
      " Incomes: [(2000, 'wages'), (5000, 'salary')] \n",
      " Expenses: [(90, 'Clothes'), (13, 'Orange')] \n",
      " Total Income: 7000 \n",
      " Total Expenses: 103\n",
      " Acct balance: 6897\n"
     ]
    }
   ],
   "source": [
    "class PersonAccount: \n",
    "    def __init__(self, firstname, lastname) -> None:\n",
    "        self.firstname = firstname\n",
    "        self.lastname = lastname\n",
    "        self.incomes = []\n",
    "        self.expenses = []\n",
    "\n",
    "    def add_expense(self,expense,description):\n",
    "        self.expenses.append((expense, description))\n",
    "        return self.expenses\n",
    "\n",
    "    def add_income(self, income, description):\n",
    "        self.incomes.append((income, description))\n",
    "        return self.incomes\n",
    "    \n",
    "    def total_expense(self):\n",
    "        total_expenses = 0\n",
    "        for expense in self.expenses:\n",
    "            total_expenses += expense[0]\n",
    "        return total_expenses\n",
    "            \n",
    "    def total_incomes(self):\n",
    "        total_incomes = 0\n",
    "        for income in self.incomes:\n",
    "            total_incomes += income[0]\n",
    "        return total_incomes\n",
    "    \n",
    "    \n",
    "    def account_balance(self):\n",
    "        return f\" Acct balance: {self.total_incomes() - self.total_expense()}\"\n",
    "\n",
    "    def account_info(self):\n",
    "        return f\" Acct Name: {self.firstname, self.lastname} \\n Incomes: {self.incomes} \\n Expenses: {self.expenses} \\n Total Income: {self.total_incomes()} \\n Total Expenses: {self.total_expense()}\"\n",
    "Acct_details = PersonAccount(\"Ishaq\", \"Hassan\")\n",
    "Acct_details2 = PersonAccount(\"Mahmud\", \"Hamza\")\n",
    "\n",
    "\n",
    "Acct_details.add_income(2000,\"wages\")\n",
    "Acct_details.add_income(5000,\"salary\")\n",
    "\n",
    "Acct_details.add_expense(90,\"Clothes\")\n",
    "Acct_details.add_expense(13,\"Orange\")\n",
    "\n",
    "print(Acct_details.account_info())\n",
    "print(Acct_details.account_balance())"
   ]
  }
 ],
 "metadata": {
  "kernelspec": {
   "display_name": "base",
   "language": "python",
   "name": "python3"
  },
  "language_info": {
   "codemirror_mode": {
    "name": "ipython",
    "version": 3
   },
   "file_extension": ".py",
   "mimetype": "text/x-python",
   "name": "python",
   "nbconvert_exporter": "python",
   "pygments_lexer": "ipython3",
   "version": "3.8.5"
  },
  "orig_nbformat": 4,
  "vscode": {
   "interpreter": {
    "hash": "a2ab3825ac7005fb7b26f112e9c99ae62f464c629e30b0d534c3b931b6cbc3ff"
   }
  }
 },
 "nbformat": 4,
 "nbformat_minor": 2
}
