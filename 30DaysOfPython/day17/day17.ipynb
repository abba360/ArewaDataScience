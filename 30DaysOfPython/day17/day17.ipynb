{
 "cells": [
  {
   "attachments": {},
   "cell_type": "markdown",
   "metadata": {},
   "source": [
    "# Day 17: 30 Days of python programming\n",
    "# Topic : Exception Handling\n",
    "# Exercise: Level 1"
   ]
  },
  {
   "attachments": {},
   "cell_type": "markdown",
   "metadata": {},
   "source": [
    "Question 1"
   ]
  },
  {
   "attachments": {},
   "cell_type": "markdown",
   "metadata": {},
   "source": [
    " names = ['Finland', 'Sweden', 'Norway','Denmark','Iceland', 'Estonia','Russia']. \n",
    " Unpack the first five countries and store them in a variable nordic_countries, store Estonia and Russia in es,and ru respectively."
   ]
  },
  {
   "cell_type": "code",
   "execution_count": 1,
   "metadata": {},
   "outputs": [
    {
     "name": "stdout",
     "output_type": "stream",
     "text": [
      "it's fine i run with \"try\" block ):\n",
      "it's ok i must run at the end of the block(s) ):\n"
     ]
    }
   ],
   "source": [
    "\n",
    "try:\n",
    "    names = ['Finland', 'Sweden', 'Norway','Denmark','Iceland', 'Estonia','Russia']\n",
    "    *nordic_countries, es, ru = names\n",
    "except Exception as e :\n",
    "    print(e)\n",
    "else :\n",
    "    print(\"it's fine i run with \\\"try\\\" block ):\")\n",
    "finally:\n",
    "    print(\"it's ok i must run at the end of the block(s) ):\")    \n"
   ]
  }
 ],
 "metadata": {
  "kernelspec": {
   "display_name": "Python 3",
   "language": "python",
   "name": "python3"
  },
  "language_info": {
   "codemirror_mode": {
    "name": "ipython",
    "version": 3
   },
   "file_extension": ".py",
   "mimetype": "text/x-python",
   "name": "python",
   "nbconvert_exporter": "python",
   "pygments_lexer": "ipython3",
   "version": "3.11.2"
  },
  "orig_nbformat": 4,
  "vscode": {
   "interpreter": {
    "hash": "7e5c0badbb2d24bbc3f94f0128230c51073dab69f6205fe8338cbe6039d785c3"
   }
  }
 },
 "nbformat": 4,
 "nbformat_minor": 2
}
