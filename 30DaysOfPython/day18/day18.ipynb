{
 "cells": [
  {
   "attachments": {},
   "cell_type": "markdown",
   "metadata": {},
   "source": [
    "### Day 18: 30 Days of python programming\n",
    "### Topic : Regular Expressions\n",
    "## Exercise: Level 1\n"
   ]
  },
  {
   "attachments": {},
   "cell_type": "markdown",
   "metadata": {},
   "source": [
    "Question 1\n"
   ]
  },
  {
   "attachments": {},
   "cell_type": "markdown",
   "metadata": {},
   "source": [
    "1. What is the most frequent word in the following paragraph?"
   ]
  },
  {
   "attachments": {},
   "cell_type": "markdown",
   "metadata": {},
   "source": [
    "paragraph = 'I love teaching. If you do not love teaching what else can you love. I love Python if you do not love something which can give you all the capabilities to develop an application what else can you love.'"
   ]
  },
  {
   "attachments": {},
   "cell_type": "markdown",
   "metadata": {},
   "source": [
    "output:\n",
    " [\n",
    "    (6, 'love'),\n",
    "    (5, 'you'),\n",
    "    (3, 'can'),\n",
    "    (2, 'what'),\n",
    "    (2, 'teaching'),\n",
    "    (2, 'not'),\n",
    "    (2, 'else'),\n",
    "    (2, 'do'),\n",
    "    (2, 'I'),\n",
    "    (1, 'which'),\n",
    "    (1, 'to'),\n",
    "    (1, 'the'),\n",
    "    (1, 'something'),\n",
    "    (1, 'if'),\n",
    "    (1, 'give'),\n",
    "    (1, 'develop'),\n",
    "    (1, 'capabilities'),\n",
    "    (1, 'application'),\n",
    "    (1, 'an'),\n",
    "    (1, 'all'),\n",
    "    (1, 'Python'),\n",
    "    (1, 'If')\n",
    "    ]"
   ]
  },
  {
   "cell_type": "code",
   "execution_count": 80,
   "metadata": {},
   "outputs": [
    {
     "name": "stdout",
     "output_type": "stream",
     "text": [
      "(12, 'capabilities')\n",
      "(11, 'application')\n",
      "(9, 'teaching.')\n",
      "(9, 'something')\n",
      "(8, 'teaching')\n",
      "(7, 'develop')\n",
      "(6, 'Python')\n",
      "(5, 'which')\n",
      "(5, 'love.')\n",
      "(5, 'love.')\n",
      "(4, 'what')\n",
      "(4, 'what')\n",
      "(4, 'love')\n",
      "(4, 'love')\n",
      "(4, 'love')\n",
      "(4, 'love')\n",
      "(4, 'give')\n",
      "(4, 'else')\n",
      "(4, 'else')\n",
      "(3, 'you')\n",
      "(3, 'you')\n",
      "(3, 'you')\n",
      "(3, 'you')\n",
      "(3, 'you')\n",
      "(3, 'the')\n",
      "(3, 'not')\n",
      "(3, 'not')\n",
      "(3, 'can')\n",
      "(3, 'can')\n",
      "(3, 'can')\n",
      "(3, 'all')\n",
      "(2, 'to')\n",
      "(2, 'if')\n",
      "(2, 'do')\n",
      "(2, 'do')\n",
      "(2, 'an')\n",
      "(2, 'If')\n",
      "(1, 'I')\n",
      "(1, 'I')\n"
     ]
    }
   ],
   "source": [
    "words = []\n",
    "paragraph = 'I love teaching. If you do not love teaching what else can you love. I love Python if you do not love something which can give you all the capabilities to develop an application what else can you love.'\n",
    "for i in paragraph.split():\n",
    "    words.append((len(i),i))\n",
    "\n",
    "for ordered_word in sorted(words, reverse=True):\n",
    "    print(ordered_word)"
   ]
  },
  {
   "attachments": {},
   "cell_type": "markdown",
   "metadata": {},
   "source": [
    "Question 2 :\n",
    "The position of some particles on the horizontal x-axis are -12, -4, -3 and -1 in the negative direction, 0 at origin, 4 and 8 in the positive direction. Extract these numbers from this whole text and find the distance between the two furthest particles."
   ]
  },
  {
   "cell_type": "code",
   "execution_count": 81,
   "metadata": {},
   "outputs": [
    {
     "name": "stdout",
     "output_type": "stream",
     "text": [
      "points =  [-12, -4, -3, -1, 0, 4, 8]\n",
      "sorted_points =  [-12, -4, -3, -1, 0, 4, 8]\n",
      "distance =  20\n"
     ]
    }
   ],
   "source": [
    "import re\n",
    "sentence = \"The position of some particles on the horizontal x-axis are -12, -4, -3 and -1 in the negative direction, 0 at origin, 4 and 8 in the positive direction. Extract these numbers from this whole text and find the distance between the two furthest particles.\"\n",
    "sentence = re.sub(\",\",\"\",sentence)\n",
    "points = []\n",
    "for i in sentence.split():\n",
    "    for j in re.findall(r'-\\d+|\\d+',sentence,re.I):\n",
    "        if j == i:\n",
    "            points.append(int(i))\n",
    "sorted_points = sorted(points)\n",
    "distance = max(sorted_points) - min(sorted_points)\n",
    "print(\"points = \",points)\n",
    "print(\"sorted_points = \",sorted_points)\n",
    "print(\"distance = \", distance)\n"
   ]
  },
  {
   "attachments": {},
   "cell_type": "markdown",
   "metadata": {},
   "source": [
    "Exercises: Level 2"
   ]
  },
  {
   "attachments": {},
   "cell_type": "markdown",
   "metadata": {},
   "source": [
    "Question 1 : \n",
    "Write a pattern which identifies if a string is a valid python variable\n",
    "\n",
    "is_valid_variable('first_name') # True\n",
    "is_valid_variable('first-name') # False\n",
    "is_valid_variable('1first_name') # False\n",
    "is_valid_variable('firstname') # True"
   ]
  },
  {
   "cell_type": "code",
   "execution_count": 82,
   "metadata": {},
   "outputs": [
    {
     "name": "stdout",
     "output_type": "stream",
     "text": [
      "True\n",
      "True\n",
      "True\n",
      "False\n",
      "True\n"
     ]
    }
   ],
   "source": [
    "def is_valid_variable(input):\n",
    "    import re\n",
    "    valid = re.findall(r'^[ab-zAB-z]', input,re.I)\n",
    "    if valid :\n",
    "        return True\n",
    "    else:\n",
    "        return False\n",
    "\n",
    "print(is_valid_variable('abc-name')) # True\n",
    "print(is_valid_variable('first_name')) # True\n",
    "print(is_valid_variable('first-name')) # True\n",
    "print(is_valid_variable('1first_name')) # False\n",
    "print(is_valid_variable('firstname')) # True\n"
   ]
  },
  {
   "attachments": {},
   "cell_type": "markdown",
   "metadata": {},
   "source": [
    " Exercises Level 3 : \n",
    " Clean the following text. After cleaning, count three most frequent \n",
    " words in the string.\n"
   ]
  },
  {
   "cell_type": "code",
   "execution_count": 101,
   "metadata": {},
   "outputs": [
    {
     "name": "stdout",
     "output_type": "stream",
     "text": [
      "I am a teacher and I love teaching There is nothing as more rewarding as educating and empowering people I found teaching more interesting than any other jobs Does this motivate you to be a teacher\n",
      "[(5, (3, 'you')), (4, (4, 'love')), (3, (3, 'can'))]\n"
     ]
    }
   ],
   "source": [
    "sentence = '''%I $am@% a %tea@cher%, &and& I lo%#ve %tea@ching%;. There $is nothing; &as& mo@re rewarding as educa@ting &and& @emp%o@wering peo@ple. ;I found tea@ching m%o@re interesting tha@n any other %jo@bs. %Do@es thi%s mo@tivate yo@u to be a tea@cher!?'''\n",
    "def clean_sentence(text):\n",
    "    '''Returns clean sentence\n",
    "    '''\n",
    "    import re\n",
    "    pattern = r'[^\\w\\s]'\n",
    "    clean_sentence = re.sub(pattern,'',text)\n",
    "    return clean_sentence\n",
    "\n",
    "def most_frequent_words(text):\n",
    "    '''Returns the three most frequent words in clean sentences\n",
    "    '''\n",
    "\n",
    "    text = text.split()\n",
    "    dct = {}\n",
    "    for word in words:\n",
    "        dct[word] = dct.get(word,0) + 1\n",
    "    lst = [(val,key) for key,val in dct.items()]\n",
    "    sorted_list =sorted(lst, reverse=True)\n",
    "    return sorted_list[:3]\n",
    "\n",
    "print(clean_sentence(sentence))\n",
    "print(most_frequent_words(clean_sentence(sentence)))\n"
   ]
  },
  {
   "cell_type": "code",
   "execution_count": null,
   "metadata": {},
   "outputs": [
    {
     "data": {
      "text/plain": [
       "'\\nPontential Use Cases Of Regular Expressions\\n1. Credit card number validating\\n2. Phone number validating\\n3. E-mail validating\\n4. Advance find/replace in text\\n5. Formatting text/output\\n6. Syntax Highlighting \\n\\n'"
      ]
     },
     "metadata": {},
     "output_type": "display_data"
    }
   ],
   "source": [
    "\n",
    "\n",
    "\"\"\"\n",
    "Pontential Use Cases Of Regular Expressions\n",
    "1. Credit card number validating\n",
    "2. Phone number validating\n",
    "3. E-mail validating\n",
    "4. Advance find/replace in text\n",
    "5. Formatting text/output\n",
    "6. Syntax Highlighting \n",
    "\n",
    "\"\"\"\n"
   ]
  }
 ],
 "metadata": {
  "kernelspec": {
   "display_name": "Python 3",
   "language": "python",
   "name": "python3"
  },
  "language_info": {
   "codemirror_mode": {
    "name": "ipython",
    "version": 3
   },
   "file_extension": ".py",
   "mimetype": "text/x-python",
   "name": "python",
   "nbconvert_exporter": "python",
   "pygments_lexer": "ipython3",
   "version": "3.11.2"
  },
  "orig_nbformat": 4,
  "vscode": {
   "interpreter": {
    "hash": "7e5c0badbb2d24bbc3f94f0128230c51073dab69f6205fe8338cbe6039d785c3"
   }
  }
 },
 "nbformat": 4,
 "nbformat_minor": 2
}
