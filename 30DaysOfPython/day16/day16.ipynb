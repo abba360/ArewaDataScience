{
 "cells": [
  {
   "attachments": {},
   "cell_type": "markdown",
   "metadata": {},
   "source": [
    "Day 16: 30 Days of python programming\n",
    "Topic : Python Date time\n",
    "Exercise: Level 1\n",
    "Question 1\n",
    "Get the current day, month, year, hour, minute and timestamp from datetime module."
   ]
  },
  {
   "cell_type": "code",
   "execution_count": null,
   "metadata": {},
   "outputs": [],
   "source": [
    "from datetime import datetime\n",
    "now = datetime.now()\n",
    "current_day = now.day\n",
    "current_month = now.month\n",
    "current_year  = now.year\n",
    "current_hour = now.hour\n",
    "current_minute = now.minute\n",
    "timestamp = now.timestamp\n",
    "print(current_day, current_month, current_year, current_hour, current_minute)\n",
    "print('timestamp', timestamp)\n"
   ]
  },
  {
   "attachments": {},
   "cell_type": "markdown",
   "metadata": {},
   "source": [
    "Question 2\n",
    "Format the current date using this format: \"%m/%d/%Y, %H:%M:%S\")"
   ]
  },
  {
   "cell_type": "code",
   "execution_count": null,
   "metadata": {},
   "outputs": [],
   "source": [
    "from datetime import datetime\n",
    "now = datetime.now()\n",
    "current_date = now.strftime(\"%m/%d/%Y, %H:%M:%S\")\n",
    "print(current_date)"
   ]
  },
  {
   "attachments": {},
   "cell_type": "markdown",
   "metadata": {},
   "source": [
    "Question 3\n",
    "Today is 5 December, 2019. Change this time string to time."
   ]
  },
  {
   "cell_type": "code",
   "execution_count": null,
   "metadata": {},
   "outputs": [],
   "source": [
    "from datetime import datetime\n",
    "date_string = \"5 December, 2019\"\n",
    "print(\"date_string =\", date_string)\n",
    "date_object = datetime.strptime(date_string, \"%d %B, %Y\")\n",
    "print(\"date_object =\", date_object)\n"
   ]
  },
  {
   "attachments": {},
   "cell_type": "markdown",
   "metadata": {},
   "source": [
    "Question 4\n",
    "Calculate the time difference between now and new year."
   ]
  },
  {
   "cell_type": "code",
   "execution_count": null,
   "metadata": {},
   "outputs": [],
   "source": [
    "from datetime import date\n",
    "d = date(2020, 1, 1)\n",
    "current_date = d.today()\n",
    "time_diff = current_date - d\n",
    "print(time_diff)\n"
   ]
  },
  {
   "attachments": {},
   "cell_type": "markdown",
   "metadata": {},
   "source": [
    "Question 5\n",
    "Calculate the time difference between 1 January 1970 and now."
   ]
  },
  {
   "cell_type": "code",
   "execution_count": null,
   "metadata": {},
   "outputs": [],
   "source": [
    "from datetime import date\n",
    "d = date(1970, 1, 1)\n",
    "current_date = d.today()\n",
    "time_diff = current_date - d\n",
    "print(time_diff)\n"
   ]
  },
  {
   "attachments": {},
   "cell_type": "markdown",
   "metadata": {},
   "source": [
    "Question 6\n",
    "Think, what can you use the datetime module for? Examples:Time series analysis To get a timestamp of any activities in an application Adding posts on a blog\n",
    "\n",
    "Uses of datetimes module\n",
    "1. Forecasting \n",
    "2. Real-Time Applications\n",
    "3. Support Vector Machines\n",
    "4. Automation"
   ]
  }
 ],
 "metadata": {
  "kernelspec": {
   "display_name": "Python 3",
   "language": "python",
   "name": "python3"
  },
  "language_info": {
   "name": "python",
   "version": "3.11.2"
  },
  "orig_nbformat": 4,
  "vscode": {
   "interpreter": {
    "hash": "7e5c0badbb2d24bbc3f94f0128230c51073dab69f6205fe8338cbe6039d785c3"
   }
  }
 },
 "nbformat": 4,
 "nbformat_minor": 2
}
